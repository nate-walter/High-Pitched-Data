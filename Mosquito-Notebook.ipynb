{
 "cells": [
  {
   "cell_type": "code",
   "execution_count": 38,
   "id": "b85746db",
   "metadata": {},
   "outputs": [],
   "source": [
    "import pandas as pd\n",
    "import numpy as np\n",
    "import matplotlib.pyplot as plt\n",
    "import seaborn as sns\n",
    "from IPython.display import YouTubeVideo"
   ]
  },
  {
   "cell_type": "markdown",
   "id": "57a57ed7",
   "metadata": {},
   "source": [
    "# Play the video below "
   ]
  },
  {
   "cell_type": "code",
   "execution_count": 2,
   "id": "cbbc1274",
   "metadata": {},
   "outputs": [
    {
     "data": {
      "image/jpeg": "[encoded data removed]",
      "text/html": [
       "\n",
       "        <iframe\n",
       "            width=\"300\"\n",
       "            height=\"200\"\n",
       "            src=\"https://www.youtube.com/embed/uKl_sTh0oHE\"\n",
       "            frameborder=\"0\"\n",
       "            allowfullscreen\n",
       "        ></iframe>\n",
       "        "
      ],
      "text/plain": [
       "<IPython.lib.display.YouTubeVideo at 0x7fcc94fda580>"
      ]
     },
     "execution_count": 2,
     "metadata": {},
     "output_type": "execute_result"
    }
   ],
   "source": [
    "YouTubeVideo('uKl_sTh0oHE', width=300, height=200)"
   ]
  },
  {
   "cell_type": "markdown",
   "id": "855442ca",
   "metadata": {},
   "source": [
    "# If you heard nothing, consider yourself lucky. If you did hear it, then you can feel my pain"
   ]
  },
  {
   "cell_type": "markdown",
   "id": "e7f4c2d5",
   "metadata": {},
   "source": [
    "## When I was a boy, in the midwest of the United States, I would get dragged along to go clothes shopping with my mom. I hated the experience. However, when we entered one store in  particular, the torture was turned up to eleven. There was a high pitched sound, like a dog whistle filling the air, oppressive, annoying, painful. When I would complain of the pestering noise, my mom would just shush me. She didn't hear it! Was I crazy? Was she wearing off on me? Was the stress of shopping for sales getting to my young boy's mind? Turns out, No. It was a security tactic. "
   ]
  },
  {
   "cell_type": "markdown",
   "id": "90c98910",
   "metadata": {},
   "source": [
    "## Not unlike the Yani Laurel phenomenon, there is an explanation. When we're young we can hear higher pitched noises, but when we grow older our ability to hear the higher ranged frequencies goes away. This is why my mom would hush me without looking up from the dress she was considering when I complained of the dog whistle noise. Was I alone in my suffering?"
   ]
  },
  {
   "cell_type": "markdown",
   "id": "7d411ff0",
   "metadata": {},
   "source": [
    "## Fast forward 15 years. I'm in Junior college, and carry around a little notebook to record poems and thoughts on life. While at the mall I walk by the same store with the high pitched sound. Now I'm old enough to do something about it. So I grab my notebook and pen and stand inside the main entrance of the store, among the clothes racks, enduring the screetch for science' sake.  I ask everyone who comes in if they can here the noise. Some look at me like I'm off my rocker – looks of true concern for my safety (and probably more for theirs). Others would answer, emphatically, \"YES I HEAR IT!!! I'VE ALWAYS HEARD IT!!!\""
   ]
  },
  {
   "cell_type": "markdown",
   "id": "416af27b",
   "metadata": {},
   "source": [
    "## It was fun when a big group approached. Some people would say that they heard it and the others would look at them (and me) increduously. It created some pretty unique conversations back and forth. Some even said that they USED to hear it, but can't any more. That should have been a dead give away, but this was before Yani and Laurel. I was just glad to have confirmation that it was real, and not imagined. WHAT it was, and its purpose remained unclear. "
   ]
  },
  {
   "cell_type": "markdown",
   "id": "7245727a",
   "metadata": {},
   "source": [
    "## After some time a security gaurd approached and, not-so-politely informed me I couldn't conduct surveys on store property based on the number of customers who hear the \"buzz\" by age, demographics, gender, or race because it fell under solicitation. All I managed to record was the sex of the person and whether they heard it or not. The data sat, in that little notebook for almost two decades, waiting for me to have the skills and tools to bring it to life."
   ]
  },
  {
   "cell_type": "markdown",
   "id": "c4232662",
   "metadata": {},
   "source": [
    "## In preparation for this article, I came across an NPR piece about the Philidelphia park district's use of a device called The Mosquito to keep kids out of public areas after a certain time of night. It produced the same high pitched noise that the retailer of my youth used.  I can only deduce that the retailer didn't want kids loitering around the store, and since the parents are the ones with the money, and they're unable to hear the annoying ringing, there was little downside to the deterent. "
   ]
  },
  {
   "cell_type": "markdown",
   "id": "a60b8205",
   "metadata": {},
   "source": [
    "# Let's get a look at the data I gathered all those years back"
   ]
  },
  {
   "cell_type": "markdown",
   "id": "ffe93870",
   "metadata": {},
   "source": [
    "## Entering the results of the survey into arrays of the person's Sex and Whether they hear it, don't hear it, or used to hear it"
   ]
  },
  {
   "cell_type": "code",
   "execution_count": 56,
   "id": "d1ed7566",
   "metadata": {},
   "outputs": [],
   "source": [
    "sex =  ['m', 'm', 'm', 'm', 'm', 'm', 'm', 'm', 'm', 'm',\n",
    "                 'm', 'm', 'm', 'm', 'm', 'm', 'm', 'm', 'm', 'm',\n",
    "                 'm', 'm', 'm', 'm', 'm', 'm', 'm', 'm', 'm', 'm',\n",
    "                 'm', 'm', 'm', 'm', 'm', 'm', 'm', 'm', 'm', 'm',\n",
    "                 'm', 'm', 'm', 'm', 'm', 'm', 'm', 'm', 'm', 'm',\n",
    "                 'm', 'm', 'm', 'm', 'm', 'm', 'm', 'm', 'm', 'm',\n",
    "                 'm', 'm', 'm', 'm', 'm', 'm', 'm', 'm', 'm', 'm',\n",
    "                 'm', 'm', 'm', 'm', 'm', 'm', 'm', 'm', 'm', 'm',\n",
    "                 'm', 'm', 'm', 'm', 'm', 'm', 'm', 'm', 'm', 'm',\n",
    "                 'm', 'm', 'm', 'm', 'm', 'm', 'm', 'm', 'm', 'm',\n",
    "                 'm', 'm', 'm', 'm', 'f','f', 'f', 'f', 'f', 'f', \n",
    "                  'f', 'f', 'f', 'f', 'f','f', 'f', 'f', 'f', 'f', \n",
    "                  'f', 'f', 'f', 'f','f','f', 'f', 'f', 'f', 'f', \n",
    "                  'f', 'f', 'f', 'f','f','f', 'f', 'f', 'f', 'f', \n",
    "                  'f', 'f', 'f', 'f','f','f', 'f', 'f', 'f', 'f', \n",
    "                  'f', 'f', 'f', 'f','f','f', 'f', 'f', 'f', 'f', \n",
    "                  'f', 'f', 'f', 'f','f','f', 'f', 'f', 'f', 'f', \n",
    "                  'f', 'f', 'f', 'f','f','f', 'f', 'f', 'f', 'f', \n",
    "                  'f', 'f', 'f', 'f','f','f', 'f', 'f', 'f', 'f', \n",
    "                  'f', 'f', 'f', 'f','f','f', 'f', 'f', 'f', 'f',\n",
    "                  'f', 'f', 'f', 'f','f','f', 'f', 'f', 'f', 'f',\n",
    "                  'f', 'f', 'f', 'f', 'f', 'f']\n",
    "\n",
    "hear_it = ['no', 'no', 'no', 'no', 'no', 'no', 'no', 'no', 'no', 'no',\n",
    "                    'no', 'no', 'no', 'no', 'no', 'no', 'no', 'no', 'no', 'no',\n",
    "                    'no', 'no', 'no', 'no', 'no', 'no', 'no', 'no', 'no', 'no',\n",
    "                    'no', 'no', 'no', 'no', 'no', 'no', 'no', 'no', 'no', 'no',\n",
    "                    'no', 'no', 'no', 'no', 'no', 'no', 'no', 'no', 'no', 'no',\n",
    "                    'no', 'no', 'no', 'no', 'no', 'no', 'no', 'no', 'no', 'no',\n",
    "                    'no', 'no', 'no', 'no', 'no', 'no', 'no', 'no', 'no', 'no',\n",
    "                    'no', 'no', 'no', 'no', 'no', 'no', 'no', 'no', 'no', 'no',\n",
    "                    'no', 'no', 'no', 'no', 'no', 'no', 'no', 'yes', 'yes', 'yes',\n",
    "                    'yes', 'yes', 'yes', 'yes', 'yes', 'yes', 'yes', 'yes', 'yes', 'yes',\n",
    "                    'yes', 'yes', 'yes', 'used to', 'no', 'no', 'no', 'no', 'no', 'no', 'no', 'no', 'no', 'no',\n",
    "                    'no', 'no', 'no', 'no', 'no', 'no', 'no', 'no', 'no', 'no',\n",
    "                    'no', 'no', 'no', 'no', 'no', 'no', 'no', 'no', 'no', 'no',\n",
    "                    'no', 'no', 'no', 'no', 'no', 'no', 'no', 'no', 'no', 'no',\n",
    "                    'no', 'no', 'no', 'no', 'no', 'no', 'no', 'no', 'no', 'no',\n",
    "                    'no', 'no', 'no', 'no', 'no', 'no', 'no', 'no', 'no', 'no',\n",
    "                    'no', 'no', 'no', 'no', 'no', 'no', 'no', 'no', 'no', 'no',\n",
    "                    'no', 'no', 'no', 'no', 'no', 'no', 'no', 'no', 'no', 'no',\n",
    "                    'no', 'no', 'no', 'no', 'no', 'no', 'no', 'no', 'no', 'no',\n",
    "                    'no', 'yes', 'yes', 'yes', 'yes', 'yes', 'yes', 'yes', 'yes', 'yes', 'yes',\n",
    "                    'yes', 'yes', 'yes', 'yes', 'yes', 'yes', 'yes', 'yes', 'yes', 'used to', 'used to']"
   ]
  },
  {
   "cell_type": "code",
   "execution_count": 57,
   "id": "32fc9647",
   "metadata": {},
   "outputs": [],
   "source": [
    "data = {'sex' : sex, 'hear_it' : hear_it}"
   ]
  },
  {
   "cell_type": "code",
   "execution_count": 58,
   "id": "da687929",
   "metadata": {},
   "outputs": [],
   "source": [
    "data = {'sex' : sex, 'hear_it' : hear_it}\n",
    "df = pd.concat([pd.DataFrame(v, columns=[k]) for k, v in data.items()], axis=1)\n",
    "df"
   ]
  },
  {
   "cell_type": "code",
   "execution_count": 59,
   "id": "fa1ee90b",
   "metadata": {},
   "outputs": [
    {
     "data": {
      "text/html": [
       "<div>\n",
       "<style scoped>\n",
       "    .dataframe tbody tr th:only-of-type {\n",
       "        vertical-align: middle;\n",
       "    }\n",
       "\n",
       "    .dataframe tbody tr th {\n",
       "        vertical-align: top;\n",
       "    }\n",
       "\n",
       "    .dataframe thead th {\n",
       "        text-align: right;\n",
       "    }\n",
       "</style>\n",
       "<table border=\"1\" class=\"dataframe\">\n",
       "  <thead>\n",
       "    <tr style=\"text-align: right;\">\n",
       "      <th></th>\n",
       "      <th>sex</th>\n",
       "      <th>hear_it</th>\n",
       "    </tr>\n",
       "  </thead>\n",
       "  <tbody>\n",
       "    <tr>\n",
       "      <th>0</th>\n",
       "      <td>m</td>\n",
       "      <td>no</td>\n",
       "    </tr>\n",
       "    <tr>\n",
       "      <th>1</th>\n",
       "      <td>m</td>\n",
       "      <td>no</td>\n",
       "    </tr>\n",
       "    <tr>\n",
       "      <th>2</th>\n",
       "      <td>m</td>\n",
       "      <td>no</td>\n",
       "    </tr>\n",
       "    <tr>\n",
       "      <th>3</th>\n",
       "      <td>m</td>\n",
       "      <td>no</td>\n",
       "    </tr>\n",
       "    <tr>\n",
       "      <th>4</th>\n",
       "      <td>m</td>\n",
       "      <td>no</td>\n",
       "    </tr>\n",
       "    <tr>\n",
       "      <th>...</th>\n",
       "      <td>...</td>\n",
       "      <td>...</td>\n",
       "    </tr>\n",
       "    <tr>\n",
       "      <th>211</th>\n",
       "      <td>f</td>\n",
       "      <td>yes</td>\n",
       "    </tr>\n",
       "    <tr>\n",
       "      <th>212</th>\n",
       "      <td>f</td>\n",
       "      <td>yes</td>\n",
       "    </tr>\n",
       "    <tr>\n",
       "      <th>213</th>\n",
       "      <td>f</td>\n",
       "      <td>yes</td>\n",
       "    </tr>\n",
       "    <tr>\n",
       "      <th>214</th>\n",
       "      <td>f</td>\n",
       "      <td>used to</td>\n",
       "    </tr>\n",
       "    <tr>\n",
       "      <th>215</th>\n",
       "      <td>f</td>\n",
       "      <td>used to</td>\n",
       "    </tr>\n",
       "  </tbody>\n",
       "</table>\n",
       "<p>216 rows × 2 columns</p>\n",
       "</div>"
      ],
      "text/plain": [
       "    sex  hear_it\n",
       "0     m       no\n",
       "1     m       no\n",
       "2     m       no\n",
       "3     m       no\n",
       "4     m       no\n",
       "..   ..      ...\n",
       "211   f      yes\n",
       "212   f      yes\n",
       "213   f      yes\n",
       "214   f  used to\n",
       "215   f  used to\n",
       "\n",
       "[216 rows x 2 columns]"
      ]
     },
     "execution_count": 59,
     "metadata": {},
     "output_type": "execute_result"
    }
   ],
   "source": [
    "df"
   ]
  },
  {
   "cell_type": "markdown",
   "id": "ef2c9510",
   "metadata": {},
   "source": [
    "Let's get some info on our new dataframe"
   ]
  },
  {
   "cell_type": "code",
   "execution_count": 60,
   "id": "04491b09",
   "metadata": {},
   "outputs": [
    {
     "name": "stdout",
     "output_type": "stream",
     "text": [
      "<class 'pandas.core.frame.DataFrame'>\n",
      "RangeIndex: 216 entries, 0 to 215\n",
      "Data columns (total 2 columns):\n",
      " #   Column   Non-Null Count  Dtype \n",
      "---  ------   --------------  ----- \n",
      " 0   sex      216 non-null    object\n",
      " 1   hear_it  216 non-null    object\n",
      "dtypes: object(2)\n",
      "memory usage: 3.5+ KB\n"
     ]
    }
   ],
   "source": [
    "df.info()"
   ]
  },
  {
   "cell_type": "markdown",
   "id": "a909c58d",
   "metadata": {},
   "source": [
    "#### How do the numbers look "
   ]
  },
  {
   "cell_type": "code",
   "execution_count": 61,
   "id": "524d5412",
   "metadata": {},
   "outputs": [
    {
     "data": {
      "text/plain": [
       "no         178\n",
       "yes         35\n",
       "used to      3\n",
       "Name: hear_it, dtype: int64"
      ]
     },
     "execution_count": 61,
     "metadata": {},
     "output_type": "execute_result"
    }
   ],
   "source": [
    "df.hear_it.value_counts()"
   ]
  },
  {
   "cell_type": "code",
   "execution_count": 62,
   "id": "4aeb920a",
   "metadata": {},
   "outputs": [
    {
     "data": {
      "text/html": [
       "<div>\n",
       "<style scoped>\n",
       "    .dataframe tbody tr th:only-of-type {\n",
       "        vertical-align: middle;\n",
       "    }\n",
       "\n",
       "    .dataframe tbody tr th {\n",
       "        vertical-align: top;\n",
       "    }\n",
       "\n",
       "    .dataframe thead th {\n",
       "        text-align: right;\n",
       "    }\n",
       "</style>\n",
       "<table border=\"1\" class=\"dataframe\">\n",
       "  <thead>\n",
       "    <tr style=\"text-align: right;\">\n",
       "      <th></th>\n",
       "      <th>sex</th>\n",
       "      <th>hear_it</th>\n",
       "    </tr>\n",
       "  </thead>\n",
       "  <tbody>\n",
       "    <tr>\n",
       "      <th>count</th>\n",
       "      <td>216</td>\n",
       "      <td>216</td>\n",
       "    </tr>\n",
       "    <tr>\n",
       "      <th>unique</th>\n",
       "      <td>2</td>\n",
       "      <td>3</td>\n",
       "    </tr>\n",
       "    <tr>\n",
       "      <th>top</th>\n",
       "      <td>f</td>\n",
       "      <td>no</td>\n",
       "    </tr>\n",
       "    <tr>\n",
       "      <th>freq</th>\n",
       "      <td>112</td>\n",
       "      <td>178</td>\n",
       "    </tr>\n",
       "  </tbody>\n",
       "</table>\n",
       "</div>"
      ],
      "text/plain": [
       "        sex hear_it\n",
       "count   216     216\n",
       "unique    2       3\n",
       "top       f      no\n",
       "freq    112     178"
      ]
     },
     "execution_count": 62,
     "metadata": {},
     "output_type": "execute_result"
    }
   ],
   "source": [
    "df.describe()"
   ]
  },
  {
   "cell_type": "code",
   "execution_count": 70,
   "id": "9550453d",
   "metadata": {},
   "outputs": [
    {
     "data": {
      "text/plain": [
       "sex  hear_it\n",
       "f    no         91\n",
       "m    no         87\n",
       "f    yes        19\n",
       "m    yes        16\n",
       "f    used to     2\n",
       "m    used to     1\n",
       "dtype: int64"
      ]
     },
     "execution_count": 70,
     "metadata": {},
     "output_type": "execute_result"
    }
   ],
   "source": [
    "val_counts = df.value_counts()\n",
    "val_counts"
   ]
  },
  {
   "cell_type": "markdown",
   "id": "9d8061fe",
   "metadata": {},
   "source": [
    "## A plot showing how many people can or can't hear the ringing"
   ]
  },
  {
   "cell_type": "code",
   "execution_count": 95,
   "id": "7a38da85",
   "metadata": {},
   "outputs": [
    {
     "data": {
      "image/png": "[encoded data removed]",
      "text/plain": [
       "<Figure size 432x288 with 1 Axes>"
      ]
     },
     "metadata": {
      "needs_background": "light"
     },
     "output_type": "display_data"
    }
   ],
   "source": [
    "fig, ax = plt.subplots(figsize=(6,4))\n",
    "\n",
    "sns.countplot(x=\"hear_it\", palette=\"ch:.26\", data=df)\n",
    "ax.set_title('Can They Hear it?')\n",
    "ax.set_xlabel('');"
   ]
  },
  {
   "cell_type": "code",
   "execution_count": null,
   "id": "1c05b97b",
   "metadata": {},
   "outputs": [],
   "source": []
  }
 ],
 "metadata": {
  "kernelspec": {
   "display_name": "firstEnv",
   "language": "python",
   "name": "firstenv"
  },
  "language_info": {
   "codemirror_mode": {
    "name": "ipython",
    "version": 3
   },
   "file_extension": ".py",
   "mimetype": "text/x-python",
   "name": "python",
   "nbconvert_exporter": "python",
   "pygments_lexer": "ipython3",
   "version": "3.9.6"
  },
  "toc": {
   "base_numbering": 1,
   "nav_menu": {},
   "number_sections": true,
   "sideBar": true,
   "skip_h1_title": false,
   "title_cell": "Table of Contents",
   "title_sidebar": "Contents",
   "toc_cell": false,
   "toc_position": {},
   "toc_section_display": true,
   "toc_window_display": false
  }
 },
 "nbformat": 4,
 "nbformat_minor": 5
}
